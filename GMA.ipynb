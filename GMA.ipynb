{
 "cells": [
  {
   "cell_type": "code",
   "execution_count": 1,
   "metadata": {},
   "outputs": [],
   "source": [
    "%matplotlib inline\n",
    "import numpy as np\n",
    "import matplotlib\n",
    "import matplotlib.pyplot as plt"
   ]
  },
  {
   "cell_type": "code",
   "execution_count": 2,
   "metadata": {},
   "outputs": [],
   "source": [
    "def gs(x,m,s):\n",
    "    e = 2.71828\n",
    "    s = np.sqrt(s)\n",
    "    a = (1/(2.506628275*s)*e**(-(x-m)**2/(2*s)))\n",
    "    return a"
   ]
  },
  {
   "cell_type": "code",
   "execution_count": 3,
   "metadata": {},
   "outputs": [],
   "source": [
    "def gaussian(mean,sdev,samples):\n",
    "    x = np.zeros(samples)\n",
    "    y = np.zeros(samples)\n",
    "    e = 2.71828\n",
    "    start = mean - 6*sdev\n",
    "    end = mean + 6*sdev\n",
    "    div = (end - start)/samples\n",
    "    for i in range(samples):\n",
    "        x[i] = start + i*div\n",
    "        y[i] = gs(x[i],mean,sdev)\n",
    "    return y,x"
   ]
  },
  {
   "cell_type": "code",
   "execution_count": 4,
   "metadata": {},
   "outputs": [],
   "source": [
    "def emalgo(itera,data,dim):\n",
    "    means = np.random.uniform(-20,20,dim)\n",
    "    sigmas = np.random.uniform(0,100,dim)\n",
    "    np.random.shuffle(data)\n",
    "    for i in range(itera):\n",
    "        sumo = np.zeros(data.size)\n",
    "        nr = np.zeros([data.size,dim])\n",
    "        respons = np.zeros([data.size,dim])\n",
    "        rep = np.zeros(dim)\n",
    "        # expectation step\n",
    "        for j in range(data.size):\n",
    "            for k in range(dim):\n",
    "                nr[j][k] = gs(data[j],means[k],sigmas[k])\n",
    "                sumo[j] += nr[j][k]\n",
    "        for j in range(data.size):\n",
    "            for k in range(dim):\n",
    "                respons[j][k] = nr[j][k]/sumo[j] #finding responsibility from likelihood\n",
    "        for j in range(data.size):\n",
    "            for k in range(dim):\n",
    "                rep[k] += respons[j][k] \n",
    "        means = np.zeros(dim)\n",
    "        sigmas = np.zeros(dim)\n",
    "        # maximization step\n",
    "        for k in range(dim):\n",
    "            for j in range(data.size):\n",
    "                means[k] += respons[j][k]*data[j]\n",
    "            means[k] /= rep[k]\n",
    "            for j in range(data.size):\n",
    "                sigmas[k] += respons[j][k]*(data[j] - means[k])**2\n",
    "            sigmas[k] /= rep[k]\n",
    "            #print(means)\n",
    "        np.random.shuffle(data)\n",
    "    return means,sigmas"
   ]
  },
  {
   "cell_type": "code",
   "execution_count": 5,
   "metadata": {},
   "outputs": [
    {
     "name": "stdout",
     "output_type": "stream",
     "text": [
      "2.2771216366394054 3.1265031947363124\n"
     ]
    },
    {
     "data": {
      "text/plain": [
       "[<matplotlib.lines.Line2D at 0x7f02cde93978>]"
      ]
     },
     "execution_count": 5,
     "metadata": {},
     "output_type": "execute_result"
    },
    {
     "data": {
      "image/png": "[encoded data removed]",
      "text/plain": [
       "<Figure size 432x288 with 1 Axes>"
      ]
     },
     "metadata": {
      "needs_background": "light"
     },
     "output_type": "display_data"
    }
   ],
   "source": [
    "data1 = np.random.normal(2,3,20)\n",
    "data2 = np.random.normal(-2,1,100)\n",
    "data = data1\n",
    "hist,bin_edges = np.histogram(data)\n",
    "plt.bar(bin_edges[:-1], hist, width = 0.5, color='#0504aa',alpha=0.7)\n",
    "nu = np.mean(data)\n",
    "sigma = np.std(data)\n",
    "print(nu,sigma)\n",
    "x , y = gaussian(nu,sigma,100)\n",
    "plt.plot(y,x)"
   ]
  },
  {
   "cell_type": "code",
   "execution_count": 6,
   "metadata": {},
   "outputs": [
    {
     "name": "stdout",
     "output_type": "stream",
     "text": [
      "Covariance matrix is [[36.91671537  1.79196123 -0.24526259]\n",
      " [ 1.79196123 35.15442786  0.05124297]\n",
      " [-0.24526259  0.05124297  0.94908022]]\n",
      "Mean is [1.88876902 1.64472566 2.03582508]\n"
     ]
    },
    {
     "data": {
      "image/png": "[encoded data removed]",
      "text/plain": [
       "<Figure size 432x288 with 1 Axes>"
      ]
     },
     "metadata": {
      "needs_background": "light"
     },
     "output_type": "display_data"
    }
   ],
   "source": [
    "data1 = np.random.normal(2,6,1000)\n",
    "data2 = np.random.normal(2,6,1000)\n",
    "data3 = np.random.normal(2,1,1000)\n",
    "data  = [data1,data2,data3]\n",
    "plt.xlim(-100, 100)\n",
    "plt.ylim(-100, 100)\n",
    "plt.gca().set_aspect('equal', adjustable='box')\n",
    "data = np.array(data)\n",
    "data = data.T\n",
    "mean = np.mean(data, axis = 0)\n",
    "cov = np.cov(data.T)\n",
    "plt.scatter(data1,data2)\n",
    "print('Covariance matrix is',cov)\n",
    "print('Mean is',mean)"
   ]
  },
  {
   "cell_type": "code",
   "execution_count": 9,
   "metadata": {},
   "outputs": [
    {
     "name": "stdout",
     "output_type": "stream",
     "text": [
      "means [-4.96373378  1.99727797  7.51662091]\n",
      "sigmas [3.71974782 1.67812274 5.23464836]\n"
     ]
    },
    {
     "data": {
      "text/plain": [
       "[<matplotlib.lines.Line2D at 0x7f0292bda160>]"
      ]
     },
     "execution_count": 9,
     "metadata": {},
     "output_type": "execute_result"
    },
    {
     "data": {
      "image/png": "[encoded data removed]",
      "text/plain": [
       "<Figure size 432x288 with 1 Axes>"
      ]
     },
     "metadata": {
      "needs_background": "light"
     },
     "output_type": "display_data"
    }
   ],
   "source": [
    "data1 = np.random.normal(-5,2,100)\n",
    "data2 = np.random.normal(2,1,100)\n",
    "data3 = np.random.normal(5,3,100)\n",
    "data = np.append(data1,data2)\n",
    "data = np.append(data,data3)\n",
    "means,sigmas = emalgo(100,data,3)\n",
    "da1,x1 = gaussian(means[0],sigmas[0],100)\n",
    "da2,x2 = gaussian(means[1],sigmas[1],100)\n",
    "da3,x3 = gaussian(means[2],sigmas[2],100)\n",
    "print('means',means)\n",
    "print('sigmas',sigmas)\n",
    "hist, edges = np.histogram(data,bins=range(-20,40))\n",
    "plt.bar(edges[:-1], hist, width = 1, color='#000000',alpha=0.7)\n",
    "plt.plot(x1,100*da1)\n",
    "plt.plot(x2,100*da2)\n",
    "plt.plot(x3,100*da3)"
   ]
  },
  {
   "cell_type": "code",
   "execution_count": null,
   "metadata": {},
   "outputs": [],
   "source": []
  },
  {
   "cell_type": "code",
   "execution_count": null,
   "metadata": {},
   "outputs": [],
   "source": []
  }
 ],
 "metadata": {
  "kernelspec": {
   "display_name": "Python 3",
   "language": "python",
   "name": "python3"
  },
  "language_info": {
   "codemirror_mode": {
    "name": "ipython",
    "version": 3
   },
   "file_extension": ".py",
   "mimetype": "text/x-python",
   "name": "python",
   "nbconvert_exporter": "python",
   "pygments_lexer": "ipython3",
   "version": "3.6.8"
  }
 },
 "nbformat": 4,
 "nbformat_minor": 2
}
